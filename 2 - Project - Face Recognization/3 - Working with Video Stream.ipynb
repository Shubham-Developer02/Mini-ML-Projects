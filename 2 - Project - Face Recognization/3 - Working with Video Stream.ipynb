{
 "cells": [
  {
   "cell_type": "markdown",
   "id": "ef1846e9",
   "metadata": {},
   "source": [
    "## Read a Video Stream from Camera ( Frame by Frame )"
   ]
  },
  {
   "cell_type": "code",
   "execution_count": 1,
   "id": "9b727fee",
   "metadata": {},
   "outputs": [],
   "source": [
    "import cv2"
   ]
  },
  {
   "cell_type": "code",
   "execution_count": 2,
   "id": "07d3b24c",
   "metadata": {},
   "outputs": [],
   "source": [
    "id = 0  # 0 means its your webcam \n",
    "cap = cv2.VideoCapture(id)  "
   ]
  },
  {
   "cell_type": "code",
   "execution_count": 3,
   "id": "1eac9a5a",
   "metadata": {},
   "outputs": [],
   "source": [
    "while True :\n",
    "    ret,frame = cap.read()\n",
    "    grey_frame = cv2.cvtColor(frame,cv2.COLOR_BGR2GRAY)\n",
    "    if ret == False :\n",
    "        continue \n",
    "        \n",
    "    cv2.imshow('Video Frame',frame)\n",
    "    \n",
    "    cv2.imshow('Gray Frame',grey_frame)\n",
    "    \n",
    "    key_pressed = cv2.waitKey(1) & 0xFF\n",
    "    \n",
    "    if key_pressed == ord('q') :         # ord return a ASCII value in 8-bit\n",
    "        break                           # waitkey return a 32 bit . SO by '&' we convert 32 bit to 8 bit \n",
    "    \n",
    "    \n",
    "cap.release()\n",
    "cv2.destroyAllWindows()    \n",
    "    "
   ]
  },
  {
   "cell_type": "code",
   "execution_count": null,
   "id": "ea1a6f5f",
   "metadata": {},
   "outputs": [],
   "source": []
  },
  {
   "cell_type": "code",
   "execution_count": null,
   "id": "b6b50147",
   "metadata": {},
   "outputs": [],
   "source": []
  },
  {
   "cell_type": "code",
   "execution_count": null,
   "id": "325bb2f9",
   "metadata": {},
   "outputs": [],
   "source": []
  }
 ],
 "metadata": {
  "kernelspec": {
   "display_name": "Python 3",
   "language": "python",
   "name": "python3"
  },
  "language_info": {
   "codemirror_mode": {
    "name": "ipython",
    "version": 3
   },
   "file_extension": ".py",
   "mimetype": "text/x-python",
   "name": "python",
   "nbconvert_exporter": "python",
   "pygments_lexer": "ipython3",
   "version": "3.8.8"
  }
 },
 "nbformat": 4,
 "nbformat_minor": 5
}
