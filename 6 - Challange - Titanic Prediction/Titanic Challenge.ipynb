{
 "cells": [
  {
   "cell_type": "code",
   "execution_count": 1,
   "id": "2a855d3e",
   "metadata": {},
   "outputs": [],
   "source": [
    "import numpy as np\n",
    "import pandas as pd\n",
    "from sklearn.tree import DecisionTreeClassifier\n",
    "from sklearn.preprocessing import LabelEncoder"
   ]
  },
  {
   "cell_type": "code",
   "execution_count": 47,
   "id": "51b01e9f",
   "metadata": {},
   "outputs": [],
   "source": [
    "sk_tree = DecisionTreeClassifier(criterion='entropy',max_depth=5)"
   ]
  },
  {
   "cell_type": "code",
   "execution_count": 48,
   "id": "2e1977ab",
   "metadata": {},
   "outputs": [],
   "source": [
    "data = pd.read_csv('train.csv')"
   ]
  },
  {
   "cell_type": "code",
   "execution_count": 49,
   "id": "a4bac9d7",
   "metadata": {},
   "outputs": [
    {
     "name": "stdout",
     "output_type": "stream",
     "text": [
      "<class 'pandas.core.frame.DataFrame'>\n",
      "RangeIndex: 1009 entries, 0 to 1008\n",
      "Data columns (total 14 columns):\n",
      " #   Column     Non-Null Count  Dtype  \n",
      "---  ------     --------------  -----  \n",
      " 0   pclass     1009 non-null   float64\n",
      " 1   survived   1009 non-null   float64\n",
      " 2   name       1009 non-null   object \n",
      " 3   sex        1009 non-null   object \n",
      " 4   age        812 non-null    float64\n",
      " 5   sibsp      1009 non-null   float64\n",
      " 6   parch      1009 non-null   float64\n",
      " 7   ticket     1009 non-null   object \n",
      " 8   fare       1008 non-null   float64\n",
      " 9   cabin      229 non-null    object \n",
      " 10  embarked   1008 non-null   object \n",
      " 11  boat       374 non-null    object \n",
      " 12  body       98 non-null     float64\n",
      " 13  home.dest  582 non-null    object \n",
      "dtypes: float64(7), object(7)\n",
      "memory usage: 110.5+ KB\n"
     ]
    }
   ],
   "source": [
    "data.info()"
   ]
  },
  {
   "cell_type": "code",
   "execution_count": 50,
   "id": "b72d4cef",
   "metadata": {},
   "outputs": [],
   "source": [
    "columns_to_drop = [\"name\",\"ticket\",\"cabin\",\"embarked\",\"boat\",\"body\",\"home.dest\"]"
   ]
  },
  {
   "cell_type": "code",
   "execution_count": 51,
   "id": "ff0c7118",
   "metadata": {},
   "outputs": [],
   "source": [
    "data.drop(columns_to_drop,axis=1,inplace=True)"
   ]
  },
  {
   "cell_type": "code",
   "execution_count": 52,
   "id": "01253b98",
   "metadata": {},
   "outputs": [
    {
     "name": "stdout",
     "output_type": "stream",
     "text": [
      "<class 'pandas.core.frame.DataFrame'>\n",
      "RangeIndex: 1009 entries, 0 to 1008\n",
      "Data columns (total 7 columns):\n",
      " #   Column    Non-Null Count  Dtype  \n",
      "---  ------    --------------  -----  \n",
      " 0   pclass    1009 non-null   float64\n",
      " 1   survived  1009 non-null   float64\n",
      " 2   sex       1009 non-null   object \n",
      " 3   age       812 non-null    float64\n",
      " 4   sibsp     1009 non-null   float64\n",
      " 5   parch     1009 non-null   float64\n",
      " 6   fare      1008 non-null   float64\n",
      "dtypes: float64(6), object(1)\n",
      "memory usage: 55.3+ KB\n"
     ]
    }
   ],
   "source": [
    "data.info()"
   ]
  },
  {
   "cell_type": "code",
   "execution_count": 53,
   "id": "91d78f05",
   "metadata": {},
   "outputs": [],
   "source": [
    "le = LabelEncoder()\n",
    "data['sex'] = le.fit_transform(data['sex'])"
   ]
  },
  {
   "cell_type": "code",
   "execution_count": 54,
   "id": "00d8f13a",
   "metadata": {},
   "outputs": [],
   "source": [
    "data.fillna(data['age'].mean(),inplace=True)"
   ]
  },
  {
   "cell_type": "code",
   "execution_count": 55,
   "id": "d2d94c56",
   "metadata": {},
   "outputs": [
    {
     "data": {
      "text/html": [
       "<div>\n",
       "<style scoped>\n",
       "    .dataframe tbody tr th:only-of-type {\n",
       "        vertical-align: middle;\n",
       "    }\n",
       "\n",
       "    .dataframe tbody tr th {\n",
       "        vertical-align: top;\n",
       "    }\n",
       "\n",
       "    .dataframe thead th {\n",
       "        text-align: right;\n",
       "    }\n",
       "</style>\n",
       "<table border=\"1\" class=\"dataframe\">\n",
       "  <thead>\n",
       "    <tr style=\"text-align: right;\">\n",
       "      <th></th>\n",
       "      <th>pclass</th>\n",
       "      <th>survived</th>\n",
       "      <th>sex</th>\n",
       "      <th>age</th>\n",
       "      <th>sibsp</th>\n",
       "      <th>parch</th>\n",
       "      <th>fare</th>\n",
       "    </tr>\n",
       "  </thead>\n",
       "  <tbody>\n",
       "    <tr>\n",
       "      <th>0</th>\n",
       "      <td>3.0</td>\n",
       "      <td>0.0</td>\n",
       "      <td>0</td>\n",
       "      <td>29.838978</td>\n",
       "      <td>0.0</td>\n",
       "      <td>0.0</td>\n",
       "      <td>7.750</td>\n",
       "    </tr>\n",
       "    <tr>\n",
       "      <th>1</th>\n",
       "      <td>2.0</td>\n",
       "      <td>0.0</td>\n",
       "      <td>1</td>\n",
       "      <td>39.000000</td>\n",
       "      <td>0.0</td>\n",
       "      <td>0.0</td>\n",
       "      <td>26.000</td>\n",
       "    </tr>\n",
       "    <tr>\n",
       "      <th>2</th>\n",
       "      <td>2.0</td>\n",
       "      <td>1.0</td>\n",
       "      <td>0</td>\n",
       "      <td>40.000000</td>\n",
       "      <td>0.0</td>\n",
       "      <td>0.0</td>\n",
       "      <td>13.000</td>\n",
       "    </tr>\n",
       "    <tr>\n",
       "      <th>3</th>\n",
       "      <td>3.0</td>\n",
       "      <td>1.0</td>\n",
       "      <td>0</td>\n",
       "      <td>31.000000</td>\n",
       "      <td>1.0</td>\n",
       "      <td>1.0</td>\n",
       "      <td>20.525</td>\n",
       "    </tr>\n",
       "    <tr>\n",
       "      <th>4</th>\n",
       "      <td>3.0</td>\n",
       "      <td>1.0</td>\n",
       "      <td>0</td>\n",
       "      <td>29.838978</td>\n",
       "      <td>2.0</td>\n",
       "      <td>0.0</td>\n",
       "      <td>23.250</td>\n",
       "    </tr>\n",
       "  </tbody>\n",
       "</table>\n",
       "</div>"
      ],
      "text/plain": [
       "   pclass  survived  sex        age  sibsp  parch    fare\n",
       "0     3.0       0.0    0  29.838978    0.0    0.0   7.750\n",
       "1     2.0       0.0    1  39.000000    0.0    0.0  26.000\n",
       "2     2.0       1.0    0  40.000000    0.0    0.0  13.000\n",
       "3     3.0       1.0    0  31.000000    1.0    1.0  20.525\n",
       "4     3.0       1.0    0  29.838978    2.0    0.0  23.250"
      ]
     },
     "execution_count": 55,
     "metadata": {},
     "output_type": "execute_result"
    }
   ],
   "source": [
    "data.head()"
   ]
  },
  {
   "cell_type": "code",
   "execution_count": 56,
   "id": "63f925dd",
   "metadata": {},
   "outputs": [],
   "source": [
    "output_col = ['survived']\n",
    "input_col = ['pclass','sex','age','sibsp','parch','fare']"
   ]
  },
  {
   "cell_type": "code",
   "execution_count": 57,
   "id": "d4637da8",
   "metadata": {},
   "outputs": [],
   "source": [
    "test_data = pd.read_csv('Test.csv')"
   ]
  },
  {
   "cell_type": "code",
   "execution_count": 58,
   "id": "a061d9d0",
   "metadata": {},
   "outputs": [],
   "source": [
    "test_data.drop(columns_to_drop,axis=1,inplace=True)\n",
    "le = LabelEncoder()\n",
    "test_data['sex'] = le.fit_transform(test_data['sex'])\n",
    "test_data.fillna(test_data['age'].mean(),inplace=True)"
   ]
  },
  {
   "cell_type": "code",
   "execution_count": 59,
   "id": "41a51d1a",
   "metadata": {},
   "outputs": [
    {
     "data": {
      "text/html": [
       "<div>\n",
       "<style scoped>\n",
       "    .dataframe tbody tr th:only-of-type {\n",
       "        vertical-align: middle;\n",
       "    }\n",
       "\n",
       "    .dataframe tbody tr th {\n",
       "        vertical-align: top;\n",
       "    }\n",
       "\n",
       "    .dataframe thead th {\n",
       "        text-align: right;\n",
       "    }\n",
       "</style>\n",
       "<table border=\"1\" class=\"dataframe\">\n",
       "  <thead>\n",
       "    <tr style=\"text-align: right;\">\n",
       "      <th></th>\n",
       "      <th>pclass</th>\n",
       "      <th>sex</th>\n",
       "      <th>age</th>\n",
       "      <th>sibsp</th>\n",
       "      <th>parch</th>\n",
       "      <th>fare</th>\n",
       "    </tr>\n",
       "  </thead>\n",
       "  <tbody>\n",
       "    <tr>\n",
       "      <th>0</th>\n",
       "      <td>1.0</td>\n",
       "      <td>1</td>\n",
       "      <td>36.000000</td>\n",
       "      <td>0.0</td>\n",
       "      <td>0.0</td>\n",
       "      <td>26.3875</td>\n",
       "    </tr>\n",
       "    <tr>\n",
       "      <th>1</th>\n",
       "      <td>3.0</td>\n",
       "      <td>0</td>\n",
       "      <td>30.027422</td>\n",
       "      <td>8.0</td>\n",
       "      <td>2.0</td>\n",
       "      <td>69.5500</td>\n",
       "    </tr>\n",
       "    <tr>\n",
       "      <th>2</th>\n",
       "      <td>1.0</td>\n",
       "      <td>1</td>\n",
       "      <td>30.027422</td>\n",
       "      <td>0.0</td>\n",
       "      <td>0.0</td>\n",
       "      <td>50.0000</td>\n",
       "    </tr>\n",
       "    <tr>\n",
       "      <th>3</th>\n",
       "      <td>2.0</td>\n",
       "      <td>1</td>\n",
       "      <td>34.000000</td>\n",
       "      <td>0.0</td>\n",
       "      <td>0.0</td>\n",
       "      <td>13.0000</td>\n",
       "    </tr>\n",
       "    <tr>\n",
       "      <th>4</th>\n",
       "      <td>2.0</td>\n",
       "      <td>1</td>\n",
       "      <td>28.000000</td>\n",
       "      <td>0.0</td>\n",
       "      <td>0.0</td>\n",
       "      <td>13.0000</td>\n",
       "    </tr>\n",
       "  </tbody>\n",
       "</table>\n",
       "</div>"
      ],
      "text/plain": [
       "   pclass  sex        age  sibsp  parch     fare\n",
       "0     1.0    1  36.000000    0.0    0.0  26.3875\n",
       "1     3.0    0  30.027422    8.0    2.0  69.5500\n",
       "2     1.0    1  30.027422    0.0    0.0  50.0000\n",
       "3     2.0    1  34.000000    0.0    0.0  13.0000\n",
       "4     2.0    1  28.000000    0.0    0.0  13.0000"
      ]
     },
     "execution_count": 59,
     "metadata": {},
     "output_type": "execute_result"
    }
   ],
   "source": [
    "test_data.head()"
   ]
  },
  {
   "cell_type": "code",
   "execution_count": 60,
   "id": "dabc8ae9",
   "metadata": {},
   "outputs": [
    {
     "data": {
      "text/plain": [
       "DecisionTreeClassifier(criterion='entropy', max_depth=5)"
      ]
     },
     "execution_count": 60,
     "metadata": {},
     "output_type": "execute_result"
    }
   ],
   "source": [
    "sk_tree.fit(data[input_col],data[output_col])"
   ]
  },
  {
   "cell_type": "code",
   "execution_count": 61,
   "id": "c0daf841",
   "metadata": {},
   "outputs": [],
   "source": [
    "pred = sk_tree.predict(test_data[input_col])"
   ]
  },
  {
   "cell_type": "code",
   "execution_count": 62,
   "id": "0082bfd5",
   "metadata": {},
   "outputs": [],
   "source": [
    "output = pd.DataFrame(pred)"
   ]
  },
  {
   "cell_type": "code",
   "execution_count": 63,
   "id": "a1c20320",
   "metadata": {},
   "outputs": [],
   "source": [
    "output.columns = ['survived']"
   ]
  },
  {
   "cell_type": "code",
   "execution_count": 64,
   "id": "6ee5387f",
   "metadata": {},
   "outputs": [],
   "source": [
    "output.to_csv('Output.csv',index=True,index_label=['Id'])"
   ]
  },
  {
   "cell_type": "code",
   "execution_count": null,
   "id": "7fe76eac",
   "metadata": {},
   "outputs": [],
   "source": []
  },
  {
   "cell_type": "code",
   "execution_count": null,
   "id": "dfce42a4",
   "metadata": {},
   "outputs": [],
   "source": []
  },
  {
   "cell_type": "code",
   "execution_count": null,
   "id": "a1286994",
   "metadata": {},
   "outputs": [],
   "source": []
  },
  {
   "cell_type": "code",
   "execution_count": 46,
   "id": "9567dbd1",
   "metadata": {},
   "outputs": [],
   "source": [
    "from sklearn.ensemble import RandomForestClassifier"
   ]
  },
  {
   "cell_type": "code",
   "execution_count": 66,
   "id": "1f197610",
   "metadata": {},
   "outputs": [],
   "source": [
    "rf = RandomForestClassifier(n_estimators=21,criterion='entropy',max_depth=5)"
   ]
  },
  {
   "cell_type": "code",
   "execution_count": 67,
   "id": "58466866",
   "metadata": {},
   "outputs": [
    {
     "name": "stderr",
     "output_type": "stream",
     "text": [
      "<ipython-input-67-61e1dcec8553>:1: DataConversionWarning: A column-vector y was passed when a 1d array was expected. Please change the shape of y to (n_samples,), for example using ravel().\n",
      "  rf.fit(data[input_col],data[output_col])\n"
     ]
    },
    {
     "data": {
      "text/plain": [
       "RandomForestClassifier(criterion='entropy', max_depth=5, n_estimators=21)"
      ]
     },
     "execution_count": 67,
     "metadata": {},
     "output_type": "execute_result"
    }
   ],
   "source": [
    "rf.fit(data[input_col],data[output_col])"
   ]
  },
  {
   "cell_type": "code",
   "execution_count": 68,
   "id": "5bacca04",
   "metadata": {},
   "outputs": [],
   "source": [
    "pred = rf.predict(test_data[input_col])"
   ]
  },
  {
   "cell_type": "code",
   "execution_count": 69,
   "id": "3293126f",
   "metadata": {},
   "outputs": [],
   "source": [
    "outputFromRandomForest = pd.DataFrame(pred)"
   ]
  },
  {
   "cell_type": "code",
   "execution_count": 70,
   "id": "4909ecd4",
   "metadata": {},
   "outputs": [],
   "source": [
    "outputFromRandomForest.columns = ['survived']"
   ]
  },
  {
   "cell_type": "code",
   "execution_count": 71,
   "id": "d4433a06",
   "metadata": {},
   "outputs": [],
   "source": [
    "outputFromRandomForest.to_csv('outputFromRandomForest.csv',index=True,index_label=['Id'])"
   ]
  },
  {
   "cell_type": "code",
   "execution_count": null,
   "id": "3a2bd662",
   "metadata": {},
   "outputs": [],
   "source": []
  },
  {
   "cell_type": "code",
   "execution_count": null,
   "id": "b45ace23",
   "metadata": {},
   "outputs": [],
   "source": []
  },
  {
   "cell_type": "code",
   "execution_count": null,
   "id": "b53f3f0a",
   "metadata": {},
   "outputs": [],
   "source": []
  }
 ],
 "metadata": {
  "kernelspec": {
   "display_name": "Python 3",
   "language": "python",
   "name": "python3"
  },
  "language_info": {
   "codemirror_mode": {
    "name": "ipython",
    "version": 3
   },
   "file_extension": ".py",
   "mimetype": "text/x-python",
   "name": "python",
   "nbconvert_exporter": "python",
   "pygments_lexer": "ipython3",
   "version": "3.8.8"
  }
 },
 "nbformat": 4,
 "nbformat_minor": 5
}
