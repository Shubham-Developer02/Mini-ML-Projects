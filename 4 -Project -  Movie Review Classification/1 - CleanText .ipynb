{
 "cells": [
  {
   "cell_type": "markdown",
   "id": "d0c38cc5",
   "metadata": {},
   "source": [
    "# Clean a NLP Pipeline to 'Clean' Reviews Data \n",
    "* Load Input file and read reviews\n",
    "* Tokenize\n",
    "* Remove Stopwords\n",
    "* Perform Stemming\n",
    "* Write Clean data to output file"
   ]
  },
  {
   "cell_type": "code",
   "execution_count": 1,
   "id": "35e98137",
   "metadata": {},
   "outputs": [],
   "source": [
    "import numpy as np\n",
    "import pandas as pd\n",
    "from nltk.tokenize import RegexpTokenizer\n",
    "from nltk.stem.porter import PorterStemmer\n",
    "from nltk.corpus import stopwords"
   ]
  },
  {
   "cell_type": "code",
   "execution_count": 2,
   "id": "6e4c2fe7",
   "metadata": {},
   "outputs": [],
   "source": [
    "tokenizer = RegexpTokenizer(r'\\w+')\n",
    "en_stopwords = set(stopwords.words('english'))\n",
    "ps = PorterStemmer()"
   ]
  },
  {
   "cell_type": "code",
   "execution_count": 3,
   "id": "5e771ced",
   "metadata": {},
   "outputs": [],
   "source": [
    "def getCleannedReview(review) :\n",
    "    review = review.lower()\n",
    "    review = review.replace(\"<br /><br />\",\" \")\n",
    "    # Tokenize\n",
    "    tokens = tokenizer.tokenize(review)\n",
    "    new_tokens = [token for token in tokens if token not in en_stopwords]\n",
    "    stemmed_tokens = [ps.stem(token) for token in new_tokens]\n",
    "    \n",
    "    cleaned_review = ' '.join(stemmed_tokens)\n",
    "    \n",
    "    return cleaned_review"
   ]
  },
  {
   "cell_type": "code",
   "execution_count": null,
   "id": "7ecd1778",
   "metadata": {},
   "outputs": [],
   "source": []
  },
  {
   "cell_type": "code",
   "execution_count": 4,
   "id": "1504b2a4",
   "metadata": {},
   "outputs": [],
   "source": [
    "def getStemmedDocument(inputFile,outputFile) :\n",
    "    output = open(outputFile,'w',encoding='utf8')\n",
    "    with open(inputFile,encoding='utf8') as f :\n",
    "        reviews = f.readlines()\n",
    "    \n",
    "    clean_document = []\n",
    "    for review in reviews :\n",
    "        cleaned_review = getCleannedReview(review)\n",
    "        clean_document.append(cleaned_review)\n",
    "        print((cleaned_review),file=output)\n",
    "    \n",
    "    print(type(clean_document))\n",
    "    print(clean_document)\n",
    "    output.close()"
   ]
  },
  {
   "cell_type": "code",
   "execution_count": 5,
   "id": "a2037ea1",
   "metadata": {},
   "outputs": [],
   "source": [
    "inputFile = 'imdb_temp.txt'\n",
    "outputFile = 'imdb_temp_output.txt'"
   ]
  },
  {
   "cell_type": "code",
   "execution_count": 6,
   "id": "0d9c1828",
   "metadata": {},
   "outputs": [
    {
     "name": "stdout",
     "output_type": "stream",
     "text": [
      "<class 'list'>\n",
      "['realli sure make movi weird artsi kind movi watch compel plot charact like kind movi stop watch horrif fascin thing happen screen although first time wife watch make way disturb run bit long nonetheless worthwhil view interest dark movi', 'enjoy film like pulp fiction reservoir dog lock stock two smoke barrel go love two hand type black humor beat keep entertain whole film like pulp fiction wacki scenario charact get deal along gallipoli picnic hang rock one best australian film seen also star young heath ledger got real big state terribl underr movi believ good pulp fiction great see', 'okay deal american pilot fli along mind busi suddenli outnumb evil cowardli non american fighter plane middl eastern type suffic say like appl pie elvi presley proceed shoot american pilot noth wrong evil non american care know bang foreign jail sentenc death would normal happen us militari would carpet bomb coupl nearbi town pilot releas time evil peac lovin type probabl got involv manag stop kind retaliatori massacr imagin pleas pilot famili evil foreign dictat smug content look make american pay oh ye inde reckon doug master captur pilot 16 year old son see doug abl fli plane longer drive car long decid fli evil foreign countri get dad back help friend doug wingman retir pilot chappi sinclair doug launch two man air raid foreign think plan would bound fail wrong sure middl eastern type might veteran pilot doug got ace sleev listen rock music fli shoot dozen enemi plane blow oil refineri doug land airport get wound dad onboard plane understand evil quit smug anymor dictat get quit annoy antic take sky bid shoot doug young lad listen rock music blow villain sky hurrah doug chappi shot 90 air forc foreign send last plane rather poor attempt shoot doug nick time flight us f16 turn scare away cannot recommend film enough first ever videocassett movi brought twenti kept hope dad would get shot foreign countri could rescu like fli happen', 'bbc surpass boundari cross tip velvet past dare denni potter work mini seri screen uk superb andrew davi work top notch read sarah water novel imagin done real justic comment bawdi men watch prove main talk sell point origin advertis fact portay lesbian side societi 1800 time thought old men rent boy well lesbian took place mainli behind close often respect door also look tip velvet love stori actual well self discoveri mani gay bi straight peopl go comment occur repeat time seen yet either repeat tv dvd get treat even product film perfect tri hide blush part like said bawdi order day bewar phallu two enjoy', 'victor matur bare civil mostli control mountain man trapper may poster robert preston fail union colonel led men get cut ribbon confeder artilleri shiloh sent fort oregon incompet interest part marri young hard recogn first ann bancroft uncivil matur lust colonel wife give film interest even dark subplot goe far refer covet anoth man wife one point jame whitmor play matur older wiser mountain man father figur direct anthoni mann film lost among famou western jame stewart even realli need indian menac make film worth see although preston get prove bad judgement command offic fail expedit final bring indian submiss well stage attack among forest quickli turn rout', 'rememb film person comment said record wish one worst movi ever funni real bad way rememb tag line box ultim frontal lobotomi got mom got friend work said worst cheesiest movi ever seen mom said son probabl love woman gave get possess later tape regret also rememb corck screw thing one ball catcher thing yellow cone shape thing red button end hit red thing send ball fli well use crank one end corkscrew funnel killer kill would show come forward weapon cut close appear raw chicken fake blood victim head know els say gem except like bad film get wors', 'first saw heimat 2 bbc2 90 art colleg live move among artist musician hope futur success second home friendship made leav famili home strive profession excel strongli reson live realiti captiv charact storytel lyric camera work music could divin begin german electron music 50 stockhausen kraftwerk neue faust 70 sound experi john cage walter carlo british electron psychedelia white nois soundtrack compos niko mamangaki studi carl orff carmina burana fame found tast contemporari electron pop sound effect world hadnt seen heimat heimat 3 watch whole without someon els comment epic lyric histor artist mani favourit moment includ wonder voic gisela muller evelyn bach marimba daniel smith juan piano play henri arnold hermann cello play salom kammer clarissa could write alreadi said british us tv produc masterpiec wire realism polit epic sweep citi david lynch denni potter imagin trope serialis tv work art hous soap cinemat narr sublim never includ critic choic best film still poetic power first saw 17 year ago watch 3 box set everi autumn mellow fruit inspir inspir', 'rich experi gain watch film seemingli simpl stori gift pupil yiu kwok later becom teacher classic chines poetri marri two son thing home seem normal still love wife twenti year marriag son altern fill pride elder one disappoint younger one passion poetri make object infatu senior student one class student choi lam draw pictur class significantli one flower come mouth teas intellig sexual although element cours immun attent though tri keep demarc line teacher student place reason succeed end complic firstli real depth commun choi lam becom clear genuin like mutual secondli long stand problem marriag brought light old friend wife becom ill consequ wife involv friend past present almost sad bear noth treat trivial film charact vivid intern life easili discern histori two lead jacki cheung anita mui outstand karena lam student choi lam shaun tam elder son yin recommend without reserv', 'second anim movi peopl still refus surrend roman empir even hilari first film asterix obelix contr ceasar first movi got laugh cartoon charact perfectli brought life without lose cartoonesqu ident sequel separ stori comic book even better sure ingredi find first movi comic book present obelix still die tast magic potion give tribe member enorm power caesar rest roman empir still enemi number 1 new refresh element brought stage well set idyl biggest part play cours egypt rather repeat movi number one extra ad make kind refer movi bruce lee etc new unexpect combin known stori comic book almost titl movi refer stuff got absolut noth asterix obelix realli work way movi build tradit comic writer goscinni uderzo hesit bring laurel hardi stage even dedic entir stori kirk dougla convinc watch movi sure monica bellucci play cleopatra', 'first saw theater 1969 9 immedi fell love sad soni seen fit releas dvd one day one day recent obtain vh copi ebay sat watch 39 year later happi report still stand test time act spot john william orchestr lush lesli bricuss song memor older fill world love london london standout enough said peter tool petula clark michael redgrav michael bryant act terenc rattigan deserv updat jame hilton stori realli noth like film good cheer select glad releas origin soundtrack three cd set lot extra wish soni would hurri film', 'rememb movi get lot flak review new letterman leno object letterman call paraphras biggest wast film ever seen leno object simpleton portray letterman john michael higgin guest show seem take anyth person dvd releas opinion involv could interest though suspect day late night talkshow war captiv nation gone return soon prefer letterman imperson leno could never buy either never rose caricatur never simpli accept actor comparison paul sorvino kissing oliv stone nixon come mind imperson may seem laughabl first moment seem least plausibl first moment amus wore highlight show treat william michael ovitz william speech letterman great reminisc alec baldwin entranc quick exit blake glengerri glen ross could done johnni role know mostli uninvolv event portray movi audienc familiar reput johnni carson need introduct context dave jay comedian rever johnni would given flick substanc lack gossip film guess read book rich littl imit johnni carson unfortun came across noth rich littl imit johnni carson tell watch movi watch either letterman leno show want crack open johnni carson dvd see real thing', 'might entir histor accur littl real charact develop jake son ridley scott first attempt well worth ticket price captain jame maclean jonni lee miller look good ever may gentleman got money cloth prove plunkett robert carlyl cloth apothecari turn outlaw circumst strang meet involv dead bodi rubi eventu partnership gentlemen highwaymen tag line say rob rich realli much background even depth develop object seem reliev aristocraci enough money jewel pay two highwaymen passag america one small problem maclean fall love chief justic ward rebecca liv tyler happen also caught eye thief taker gener plot origin enough cast excel especi alan cum drag queenish lord rochest carlyl miller also togeth trainspot lost dynam costum fantast makeup outrag music hard edg techno strang classic underton jake scott eye light shadow good sens balanc spectacl plot squeamish show unpleas side 17th centuri london lucki us like close up face especi eye jonni lee miller eye liv tyler hey movi rebecca plunkett maclean movi pretti face risk sound clich fast furiou sometim frustrat ride nobl highwaymen sinc robin hood decad sleazi violent scott debut film make entertain even movi maclean say terrif bloodi good laugh']\n"
     ]
    }
   ],
   "source": [
    "getStemmedDocument(inputFile,outputFile)"
   ]
  },
  {
   "cell_type": "code",
   "execution_count": null,
   "id": "903e7308",
   "metadata": {},
   "outputs": [],
   "source": []
  },
  {
   "cell_type": "code",
   "execution_count": null,
   "id": "dd1cd9a6",
   "metadata": {},
   "outputs": [],
   "source": []
  },
  {
   "cell_type": "raw",
   "id": "86f7bfc5",
   "metadata": {},
   "source": []
  },
  {
   "cell_type": "code",
   "execution_count": null,
   "id": "2c2f1ffc",
   "metadata": {},
   "outputs": [],
   "source": []
  },
  {
   "cell_type": "code",
   "execution_count": null,
   "id": "97f36ffe",
   "metadata": {},
   "outputs": [],
   "source": []
  }
 ],
 "metadata": {
  "kernelspec": {
   "display_name": "Python 3",
   "language": "python",
   "name": "python3"
  },
  "language_info": {
   "codemirror_mode": {
    "name": "ipython",
    "version": 3
   },
   "file_extension": ".py",
   "mimetype": "text/x-python",
   "name": "python",
   "nbconvert_exporter": "python",
   "pygments_lexer": "ipython3",
   "version": "3.8.8"
  }
 },
 "nbformat": 4,
 "nbformat_minor": 5
}
