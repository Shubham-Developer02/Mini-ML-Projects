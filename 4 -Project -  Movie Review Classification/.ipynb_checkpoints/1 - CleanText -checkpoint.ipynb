{
 "cells": [
  {
   "cell_type": "markdown",
   "id": "d0c38cc5",
   "metadata": {},
   "source": [
    "# Clean a NLP Pipeline to 'Clean' Reviews Data \n",
    "* Load Input file and read reviews\n",
    "* Tokenize\n",
    "* Remove Stopwords\n",
    "* Perform Stemming\n",
    "* Write Clean data to output file"
   ]
  },
  {
   "cell_type": "code",
   "execution_count": 1,
   "id": "35e98137",
   "metadata": {},
   "outputs": [],
   "source": [
    "import numpy as np\n",
    "import pandas as pd\n",
    "from nltk.tokenize import RegexpTokenizer\n",
    "from nltk.stem.porter import PorterStemmer\n",
    "from nltk.corpus import stopwords"
   ]
  },
  {
   "cell_type": "code",
   "execution_count": 2,
   "id": "6e4c2fe7",
   "metadata": {},
   "outputs": [],
   "source": [
    "tokenizer = RegexpTokenizer(r'\\w+')\n",
    "en_stopwords = set(stopwords.words('english'))\n",
    "ps = PorterStemmer()"
   ]
  },
  {
   "cell_type": "code",
   "execution_count": 3,
   "id": "5e771ced",
   "metadata": {},
   "outputs": [],
   "source": [
    "def getCleannedReview(review) :\n",
    "    review = review.lower()\n",
    "    review = review.replace(\"<br /><br />\",\" \")\n",
    "    # Tokenize\n",
    "    tokens = tokenizer.tokenize(review)\n",
    "    new_tokens = [token for token in tokens if token not in en_stopwords]\n",
    "    stemmed_tokens = [ps.stem(token) for token in new_tokens]\n",
    "    \n",
    "    cleaned_review = ' '.join(stemmed_tokens)\n",
    "    \n",
    "    return cleaned_review"
   ]
  },
  {
   "cell_type": "code",
   "execution_count": null,
   "id": "7ecd1778",
   "metadata": {},
   "outputs": [],
   "source": []
  },
  {
   "cell_type": "code",
   "execution_count": 4,
   "id": "1504b2a4",
   "metadata": {},
   "outputs": [],
   "source": [
    "def getStemmedDocument(inputFile,outputFile) :\n",
    "    output = open(outputFile,'w',encoding='utf8')\n",
    "    with open(inputFile,encoding='utf8') as f :\n",
    "        reviews = f.readlines()\n",
    "        \n",
    "    for review in reviews :\n",
    "        cleaned_review = getCleannedReview(review)\n",
    "        print((cleaned_review),file=output)\n",
    "        \n",
    "    output.close()"
   ]
  },
  {
   "cell_type": "code",
   "execution_count": 5,
   "id": "a2037ea1",
   "metadata": {},
   "outputs": [],
   "source": [
    "inputFile = 'imdb_temp.txt'\n",
    "outputFile = 'imdb_temp_output.txt'"
   ]
  },
  {
   "cell_type": "code",
   "execution_count": 6,
   "id": "0d9c1828",
   "metadata": {},
   "outputs": [],
   "source": [
    "getStemmedDocument(inputFile,outputFile)"
   ]
  },
  {
   "cell_type": "code",
   "execution_count": null,
   "id": "903e7308",
   "metadata": {},
   "outputs": [],
   "source": []
  },
  {
   "cell_type": "code",
   "execution_count": null,
   "id": "dd1cd9a6",
   "metadata": {},
   "outputs": [],
   "source": []
  },
  {
   "cell_type": "code",
   "execution_count": null,
   "id": "5f174e39",
   "metadata": {},
   "outputs": [],
   "source": []
  },
  {
   "cell_type": "code",
   "execution_count": null,
   "id": "2c2f1ffc",
   "metadata": {},
   "outputs": [],
   "source": []
  },
  {
   "cell_type": "code",
   "execution_count": null,
   "id": "97f36ffe",
   "metadata": {},
   "outputs": [],
   "source": []
  }
 ],
 "metadata": {
  "kernelspec": {
   "display_name": "Python 3",
   "language": "python",
   "name": "python3"
  },
  "language_info": {
   "codemirror_mode": {
    "name": "ipython",
    "version": 3
   },
   "file_extension": ".py",
   "mimetype": "text/x-python",
   "name": "python",
   "nbconvert_exporter": "python",
   "pygments_lexer": "ipython3",
   "version": "3.8.8"
  }
 },
 "nbformat": 4,
 "nbformat_minor": 5
}
